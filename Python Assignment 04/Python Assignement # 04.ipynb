{
 "cells": [
  {
   "cell_type": "code",
   "execution_count": 16,
   "metadata": {},
   "outputs": [
    {
     "name": "stdout",
     "output_type": "stream",
     "text": [
      "{'first_name': 'Haris', 'last_name': 'Amin', 'age': 21, 'city': 'Hyderabad', 'qualification': 'BECSE'}\n",
      "{'first_name': 'Haris', 'last_name': 'Amin', 'age': 21, 'city': 'Hyderabad', 'qualification': 'Graduate'}\n",
      "{'first_name': 'Haris', 'last_name': 'Amin', 'age': 21, 'city': 'Hyderabad'}\n"
     ]
    }
   ],
   "source": [
    "'''Q1: Use a dictionary to store information about a person you know. \n",
    "       Store their first name, last name, age, and the city in which they live.\n",
    "       You should have keys such as first_name, last_name, age, and city. \n",
    "       Print each piece of information stored in your dictionary. \n",
    "       Add a new key value pair about qualification then update \n",
    "       the qualification value to high academic level then delete it.'''\n",
    "\n",
    "Student = {\"first_name\":\"Haris\", \"last_name\":\"Amin\", \"age\":21 , \"city\":\"Hyderabad\"}\n",
    "Student[\"qualification\"]=\"BECSE\"\n",
    "print(Student)\n",
    "Student[\"qualification\"]=\"Graduate\"\n",
    "print(Student)\n",
    "del Student[\"qualification\"]\n",
    "print(Student)"
   ]
  },
  {
   "cell_type": "code",
   "execution_count": 13,
   "metadata": {},
   "outputs": [
    {
     "name": "stdout",
     "output_type": "stream",
     "text": [
      "{'Country': 'Pakistan', 'Population': 15741000, 'Facts': 'It is the 2nd largest city in the world by city population'}\n",
      "{'Country': 'Pakistan', 'Population': 1815000, 'Facts': 'BOMBAY BAKERY CAKES,Palla Fish'}\n",
      "{'Country': 'Pakistan', 'Population': 220283, 'Facts': 'Universities: Quest,Pumhs'}\n"
     ]
    }
   ],
   "source": [
    "'''Q2: Make a dictionary called cities. Use the names of three cities as keys in your dictionary. \n",
    "       Create a dictionary of information about each city and include the country that the city is in, \n",
    "       its approximate population, and one fact about that city. The keys for each city’s dictionary \n",
    "       should be something like country, population, and fact. Print the name of each city and all of\n",
    "       the information you have stored about it.'''\n",
    "\n",
    "Cities = {\n",
    "\"Karachi\":  \n",
    "{\n",
    "    \"Country\":\"Pakistan\",\n",
    "    \"Population\":15741000,\n",
    "    \"Facts\":\"It is the 2nd largest city in the world by city population\"\n",
    "},\n",
    "\"Hyderabad\":\n",
    "{\n",
    "    \"Country\":\"Pakistan\",\n",
    "    \"Population\":1815000, \n",
    "    \"Facts\":\"BOMBAY BAKERY CAKES,Palla Fish\"\n",
    "},\n",
    "\"Nawabshah\":\n",
    "{\n",
    "    \"Country\":\"Pakistan\",\n",
    "    \"Population\": 220283, \n",
    "    \"Facts\":\"Universities: Quest,Pumhs\"\n",
    "}\n",
    "}\n",
    "print(Cities[\"Karachi\"])\n",
    "print(Cities[\"Hyderabad\"])\n",
    "print(Cities[\"Nawabshah\"])"
   ]
  },
  {
   "cell_type": "code",
   "execution_count": 11,
   "metadata": {},
   "outputs": [
    {
     "name": "stdout",
     "output_type": "stream",
     "text": [
      "Enter your age9\n",
      "Ticket is 10$\n"
     ]
    }
   ],
   "source": [
    "'''Q3: A movie theater charges different ticket prices depending on a person’s age. \n",
    "       If a person is under the age of 3, the ticket is free; if they are between 3 and 12, \n",
    "       the ticket is $10; and if they are over age 12, the ticket is $15. Write a loop in\n",
    "       which you ask users their age, and then tell them the cost of their movie ticket.'''\n",
    "\n",
    "age=int(input(\"Enter your age\"))\n",
    "if age  > 0 and age <=3 :\n",
    " print(\"Ticket is FREE\")\n",
    "elif age > 3 and age < 12 :\n",
    " print(\"Ticket is 10$\")\n",
    "elif age  >= 12  :\n",
    " print(\"Ticket is 15$\")"
   ]
  },
  {
   "cell_type": "code",
   "execution_count": 9,
   "metadata": {},
   "outputs": [
    {
     "name": "stdout",
     "output_type": "stream",
     "text": [
      "one of my favorite books is Alice in Wonderland\n"
     ]
    }
   ],
   "source": [
    "'''Q4: Write a function called favorite_book() that accepts one parameter, title.\n",
    "       The function should print a message, such as One of my favorite books is Alice in Wonderland. \n",
    "       Call the function, making sure to include a book title as an argument in the function call.'''\n",
    "\n",
    "def favorite_book(title):\n",
    "    print(title)\n",
    "favorite_book(title=\"one of my favorite books is Alice in Wonderland\") "
   ]
  },
  {
   "cell_type": "code",
   "execution_count": 20,
   "metadata": {},
   "outputs": [
    {
     "name": "stdout",
     "output_type": "stream",
     "text": [
      "hint: Numbers is  between 1 to 30\n",
      "Guess the correct Number1\n",
      "your number is small\n",
      "\n",
      "hint: Numbers is  between 1 to 30\n",
      "Guess the correct Number34\n",
      "your number is Large\n",
      "\n",
      "hint: Numbers is  between 1 to 30\n",
      "Guess the correct Number232\n",
      "your number is Large\n",
      "\n"
     ]
    }
   ],
   "source": [
    "''' Q5: Guess the number game\n",
    "        Write a program which randomly generate a number between 1 to 30 and ask the user in input field\n",
    "        to guess the correct number. Give three chances to user guess the number and also give hint to user \n",
    "        if hidden number is greater or smaller than the number he given to input field.'''\n",
    "\n",
    "import random\n",
    "num = random.randint(1,30)\n",
    "print(\"hint: Numbers is  between 1 to 30\")\n",
    "user = int(input(\"Guess the correct Number\"))\n",
    "if user > num :\n",
    "    print(\"your number is Large\\n\")\n",
    "elif user < num :\n",
    "    print(\"your number is small\\n\")\n",
    "\n",
    "\n",
    "import random\n",
    "num = random.randint(1,30)\n",
    "print(\"hint: Numbers is  between 1 to 30\")\n",
    "user = int(input(\"Guess the correct Number\"))\n",
    "if user > num :\n",
    "    print(\"your number is Large\\n\")\n",
    "elif user < num :\n",
    "    print(\"your number is small\\n\")\n",
    "else :\n",
    "    print(\"Try another one\")\n",
    "    \n",
    "import random\n",
    "num = random.randint(1,30)\n",
    "print(\"hint: Numbers is  between 1 to 30\")\n",
    "user = int(input(\"Guess the correct Number\"))\n",
    "if user > num :\n",
    "    print(\"your number is Large\\n\")\n",
    "elif user < num :\n",
    "    print(\"your number is small\\n\")\n",
    "else :\n",
    "    print(\"Try another one\")"
   ]
  }
 ],
 "metadata": {
  "kernelspec": {
   "display_name": "Python 3",
   "language": "python",
   "name": "python3"
  },
  "language_info": {
   "codemirror_mode": {
    "name": "ipython",
    "version": 3
   },
   "file_extension": ".py",
   "mimetype": "text/x-python",
   "name": "python",
   "nbconvert_exporter": "python",
   "pygments_lexer": "ipython3",
   "version": "3.7.4"
  }
 },
 "nbformat": 4,
 "nbformat_minor": 2
}
