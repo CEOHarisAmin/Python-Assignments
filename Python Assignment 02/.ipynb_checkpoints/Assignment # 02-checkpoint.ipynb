{
 "cells": [
  {
   "cell_type": "code",
   "execution_count": 5,
   "metadata": {},
   "outputs": [
    {
     "name": "stdout",
     "output_type": "stream",
     "text": [
      "Enter the Subject marks78\n",
      "Enter the Subject marks87\n",
      "Enter the Subject marks98\n",
      "Enter the Subject marks76\n",
      "Enter the Subject marks87\n",
      "sum of five subject is 426\n",
      "Percentage of Five subject is 85.0\n",
      "A+\n"
     ]
    }
   ],
   "source": [
    "#Write a program which takes 5 inputs from user for different subject’s marks, total it and generate mark sheet using grades.\n",
    "math      = int(input('Enter the Subject marks'))\n",
    "english   = int(input('Enter the Subject marks'))\n",
    "physic    = int(input('Enter the Subject marks'))\n",
    "chemistry = int(input('Enter the Subject marks'))\n",
    "urdu      = int(input('Enter the Subject marks'))\n",
    "sum = math + english + physic + chemistry + urdu\n",
    "print(\"sum of five subject is\", sum)\n",
    "per = float(sum*100//500)\n",
    "print(\"Percentage of Five subject is\", per)\n",
    "if per > 80 and per <=100 :\n",
    "  print(\"A+\")\n",
    "elif per > 70 and per <=80 :\n",
    "   print(\"A\")\n",
    "elif per >60 and per <=70 :\n",
    "   print(\"B\")\n",
    "elif per > 50 and per <=60 :\n",
    "  print(\"C\")\n",
    "elif per > 40 and per <=50 :\n",
    "   print(\"D\")\n",
    "elif per > 0 and per <=40 :\n",
    "   print(\"FAIL\")\n",
    "else :\n",
    "   print(\"you add inoppropiate value \")\n",
    "   print(\"please Enter Correct value\")"
   ]
  },
  {
   "cell_type": "code",
   "execution_count": 6,
   "metadata": {},
   "outputs": [
    {
     "name": "stdout",
     "output_type": "stream",
     "text": [
      "enter the two number: 234\n",
      "Number is Even\n"
     ]
    }
   ],
   "source": [
    "# Write a program which take input from user and identify that the given number is even or odd? \n",
    "num=int(input(\"enter the two number: \"))\n",
    "if num % 2 == 0:\n",
    " print(\"Number is Even\")\n",
    "else:\n",
    " print(\"Number is odd\")"
   ]
  },
  {
   "cell_type": "code",
   "execution_count": 7,
   "metadata": {},
   "outputs": [
    {
     "name": "stdout",
     "output_type": "stream",
     "text": [
      "Length of given list is 9\n"
     ]
    }
   ],
   "source": [
    "# Write a program which print the length of the list?\n",
    "List_Length = [1,2,3,4,5,6,7,8,9]\n",
    "print(\"Length of given list is\", len(List_Length))"
   ]
  },
  {
   "cell_type": "code",
   "execution_count": 11,
   "metadata": {},
   "outputs": [
    {
     "name": "stdout",
     "output_type": "stream",
     "text": [
      "Largest element is: 550\n"
     ]
    }
   ],
   "source": [
    "# Write a Python program to sum all the numeric items in a list\n",
    "list1 = [10, 20,30,40,50,60,70,80,90,100] \n",
    "print(\"Largest element is:\", sum(list1)) "
   ]
  },
  {
   "cell_type": "code",
   "execution_count": 4,
   "metadata": {},
   "outputs": [
    {
     "name": "stdout",
     "output_type": "stream",
     "text": [
      "Largest element is: 4343\n"
     ]
    }
   ],
   "source": [
    "# Write a Python program to get the largest number from a numeric list\n",
    "list1 = [10, 20, 4, 45,4343 ,99,100,500] \n",
    "print(\"Largest element is:\", max(list1)) "
   ]
  },
  {
   "cell_type": "code",
   "execution_count": 15,
   "metadata": {},
   "outputs": [
    {
     "ename": "SyntaxError",
     "evalue": "invalid syntax (<ipython-input-15-8b158066f1b8>, line 5)",
     "output_type": "error",
     "traceback": [
      "\u001b[1;36m  File \u001b[1;32m\"<ipython-input-15-8b158066f1b8>\"\u001b[1;36m, line \u001b[1;32m5\u001b[0m\n\u001b[1;33m    item = min{5}\u001b[0m\n\u001b[1;37m              ^\u001b[0m\n\u001b[1;31mSyntaxError\u001b[0m\u001b[1;31m:\u001b[0m invalid syntax\n"
     ]
    }
   ],
   "source": [
    "#Take a list, say for example this one: \n",
    "#a = [1, 1, 2, 3, 5, 8, 13, 21, 34, 55, 89] \n",
    "# write a program that prints out all the elements of the list that are less than 5. \n",
    "a = [1, 1, 2, 3, 5, 8, 13, 21, 34, 55, 89]\n",
    "item = min\n",
    "print(\"The min number is \",item(a))"
   ]
  },
  {
   "cell_type": "code",
   "execution_count": 70,
   "metadata": {},
   "outputs": [
    {
     "name": "stdout",
     "output_type": "stream",
     "text": [
      "1\n",
      "1\n",
      "2\n",
      "3\n"
     ]
    }
   ],
   "source": [
    "a = [1, 1, 2, 3, 5, 8, 13, 21, 34, 55, 89]\n",
    "for i in a:\n",
    "    if i < 5:\n",
    "      print(i) "
   ]
  }
 ],
 "metadata": {
  "kernelspec": {
   "display_name": "Python 3",
   "language": "python",
   "name": "python3"
  },
  "language_info": {
   "codemirror_mode": {
    "name": "ipython",
    "version": 3
   },
   "file_extension": ".py",
   "mimetype": "text/x-python",
   "name": "python",
   "nbconvert_exporter": "python",
   "pygments_lexer": "ipython3",
   "version": "3.7.4"
  }
 },
 "nbformat": 4,
 "nbformat_minor": 2
}
