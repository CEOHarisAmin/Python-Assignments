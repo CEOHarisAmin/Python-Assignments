{
 "cells": [
  {
   "cell_type": "code",
   "execution_count": 77,
   "metadata": {
    "scrolled": true
   },
   "outputs": [
    {
     "name": "stdout",
     "output_type": "stream",
     "text": [
      "Twinkle, twinkle, little star,\n",
      "      How I wonder what you are!\n",
      "            Up above the world so high,\n",
      "            Like a diamond in the sky.\n",
      "Twinkle, twincle, little star,\n",
      "      How I wonder what you are\n"
     ]
    }
   ],
   "source": [
    "print(\"Twinkle, twinkle, little star,\\n\"\n",
    "       \"      \"\"How I wonder what you are!\\n\" \n",
    "       \"           \"\" Up above the world so high,\\n\"\n",
    "       \"           \"\" Like a diamond in the sky.\\n\"\n",
    "       \"Twinkle, twincle, little star,\\n\"\n",
    "       \"      \"\"How I wonder what you are\"\n",
    "    \n",
    "     ) ;\n",
    "      "
   ]
  },
  {
   "cell_type": "code",
   "execution_count": 13,
   "metadata": {},
   "outputs": [
    {
     "name": "stdout",
     "output_type": "stream",
     "text": [
      "Python version\n",
      "3.7.4 (default, Aug  9 2019, 18:34:13) [MSC v.1915 64 bit (AMD64)]\n"
     ]
    }
   ],
   "source": [
    "import sys\n",
    "print(\"Python version\");\n",
    "print (sys.version)"
   ]
  },
  {
   "cell_type": "code",
   "execution_count": 75,
   "metadata": {},
   "outputs": [
    {
     "name": "stdout",
     "output_type": "stream",
     "text": [
      "The Current date and time is : \n",
      "2019-11-01 20:13:55\n"
     ]
    }
   ],
   "source": [
    "import datetime\n",
    "print (\"The Current date and time is : \");\n",
    "print (now.strftime(\"%Y-%m-%d %H:%M:%S\"));"
   ]
  },
  {
   "cell_type": "code",
   "execution_count": 6,
   "metadata": {},
   "outputs": [
    {
     "name": "stdout",
     "output_type": "stream",
     "text": [
      "input the radius of the circle21\n",
      "Area is 2769.48\n"
     ]
    }
   ],
   "source": [
    "#from math import pi\n",
    "r=float(input(\"input the radius of the circle\"))\n",
    "pi=3.14\n",
    "area=2*pi*r**2\n",
    "print(\"Area is\",area)"
   ]
  },
  {
   "cell_type": "code",
   "execution_count": 9,
   "metadata": {},
   "outputs": [
    {
     "name": "stdout",
     "output_type": "stream",
     "text": [
      "Enter the First NameHaris\n",
      "Enter the last NameAmin\n",
      "Amin Haris\n"
     ]
    }
   ],
   "source": [
    "firstname=input(\"Enter the First Name\")\n",
    "lastname=input(\"Enter the last Name\")\n",
    "print(lastname+\" \"+firstname)\n"
   ]
  },
  {
   "cell_type": "code",
   "execution_count": 20,
   "metadata": {},
   "outputs": [
    {
     "name": "stdout",
     "output_type": "stream",
     "text": [
      "Enter first number: 32\n",
      "Enter second number: 32\n",
      "The sum of 32 and 32 is 64.0\n"
     ]
    }
   ],
   "source": [
    "#a=input(\"Enter the first value\")\n",
    "#b=input(\"Enter the second value\")\n",
    "#c=a+b\n",
    "#print(c)\n",
    "\n",
    "a = input('Enter first number: ')\n",
    "b = input('Enter second number: ')\n",
    "\n",
    "# Add two numbers\n",
    "sum = float(a) + float(b)\n",
    "\n",
    "# Display the sum\n",
    "print('The sum of {0} and {1} is {2}'.format(a, b, sum))"
   ]
  }
 ],
 "metadata": {
  "kernelspec": {
   "display_name": "Python 3",
   "language": "python",
   "name": "python3"
  },
  "language_info": {
   "codemirror_mode": {
    "name": "ipython",
    "version": 3
   },
   "file_extension": ".py",
   "mimetype": "text/x-python",
   "name": "python",
   "nbconvert_exporter": "python",
   "pygments_lexer": "ipython3",
   "version": "3.7.4"
  }
 },
 "nbformat": 4,
 "nbformat_minor": 2
}
